{
 "cells": [
  {
   "cell_type": "markdown",
   "id": "e5452676-f1d5-4f52-a48c-5b2d44f0a354",
   "metadata": {},
   "source": [
    "\n",
    "#### Part 1: Design of TicTacToe\n",
    "Below is the class definition of TicTacToe. You may call set_position() to place the marker (X or O) at a particular position and reset() to reset the board. if_won() and if_draw() are called internally."
   ]
  },
  {
   "cell_type": "code",
   "execution_count": 1,
   "id": "9041e5cf-fd37-489e-8c3a-fb24b88d8f80",
   "metadata": {},
   "outputs": [],
   "source": [
    "import numpy as np\n",
    "import random\n",
    "\n",
    "class TicTacToe:\n",
    "    def __init__(self):        \n",
    "        self.state = np.full((3,3), '-')      # the states can be '-', 'X', 'O'\n",
    "        self.finish = False                   # checks if the game is finished\n",
    "        print(self.state)\n",
    "        print('Welcome to the TicTacToe game!')\n",
    "        print('Player can be either X or O (alphabet O and not number 0)')\n",
    "        print('Row and column number can be between 1-3')\n",
    "        \n",
    "    def reset(self):\n",
    "        self.state = np.full((3,3), '-')\n",
    "        print('The state is reset!')\n",
    "        print(self.state)\n",
    "        self.finish = False\n",
    "        \n",
    "    def set_position(self, player, pos_row, pos_col):\n",
    "        '''\n",
    "        Args:\n",
    "            player (str)  : whether 'X' or 'O'\n",
    "            pos_row (int) : row number to set the move (1-3)\n",
    "            pos_col (int) : col number to set the move (1-3)\n",
    "        '''\n",
    "        if not self.finish:\n",
    "            if pos_row>3 or pos_col>3:\n",
    "                print('Invalid Move! The row and column numbers should be <=3')\n",
    "            elif player=='X' and self.state[pos_row-1, pos_col-1]=='-':\n",
    "                self.state[pos_row-1, pos_col-1] = 'X'\n",
    "                print('X moved at ', (pos_row, pos_col))\n",
    "            elif player=='O' and self.state[pos_row-1, pos_col-1]=='-':\n",
    "                self.state[pos_row-1, pos_col-1] = 'O'\n",
    "                print('O moved at ', (pos_row, pos_col))\n",
    "            else:\n",
    "                print('Invalid Move! Already set on this position')            \n",
    "        \n",
    "            if not self.finish:\n",
    "                self.if_won()\n",
    "                self.if_draw()\n",
    "            \n",
    "            print(self.state)\n",
    "        else:\n",
    "            print('Move not allowed because the game is finished. Please reset.')\n",
    "        \n",
    "    def if_won(self):\n",
    "        x_won = np.array(['X', 'X', 'X'])\n",
    "        o_won = np.array(['O', 'O', 'O'])\n",
    "        \n",
    "        # check for horizontal and vertical axes\n",
    "        for i in range(3):\n",
    "            if np.array_equal(self.state[i,:], x_won) or np.array_equal(self.state[:,i], x_won):\n",
    "                print('X Won!!')    \n",
    "                self.finish = True\n",
    "            elif np.array_equal(self.state[i,:], o_won) or np.array_equal(self.state[:,i], o_won):\n",
    "                print('O Won!!') \n",
    "                self.finish = True\n",
    "            else:\n",
    "                pass\n",
    "        \n",
    "        # check for diagonals\n",
    "        if np.array_equal(self.state.diagonal(), x_won) or np.array_equal(np.fliplr(self.state).diagonal(), x_won):\n",
    "            print('X Won!!')\n",
    "            self.finish = True\n",
    "            \n",
    "        if np.array_equal(self.state.diagonal(), o_won) or np.array_equal(np.fliplr(self.state).diagonal(), o_won):\n",
    "            print('O Won!!')\n",
    "            self.finish = True\n",
    "            \n",
    "    def if_draw(self):\n",
    "        if not np.isin('-', self.state) and not self.finish:\n",
    "            self.finish=True\n",
    "            print('The game is a draw! :/')        \n",
    "            "
   ]
  },
  {
   "cell_type": "markdown",
   "id": "fee49255-9c58-4dca-932c-a530123b7fc6",
   "metadata": {},
   "source": [
    "Test the Board: below code manually calls set_position() everytime to play tictactoe"
   ]
  },
  {
   "cell_type": "code",
   "execution_count": 5,
   "id": "347c4af1-44c9-4b55-99b1-53a56bda7088",
   "metadata": {},
   "outputs": [
    {
     "name": "stdout",
     "output_type": "stream",
     "text": [
      "[['-' '-' '-']\n",
      " ['-' '-' '-']\n",
      " ['-' '-' '-']]\n",
      "Welcome to the TicTacToe game!\n",
      "Player can be either X or O (alphabet O and not number 0)\n",
      "Row and column number can be between 1-3\n",
      "O moved at  (2, 2)\n",
      "[['-' '-' '-']\n",
      " ['-' 'O' '-']\n",
      " ['-' '-' '-']]\n",
      "X moved at  (1, 1)\n",
      "[['X' '-' '-']\n",
      " ['-' 'O' '-']\n",
      " ['-' '-' '-']]\n",
      "O moved at  (3, 1)\n",
      "[['X' '-' '-']\n",
      " ['-' 'O' '-']\n",
      " ['O' '-' '-']]\n",
      "X moved at  (1, 3)\n",
      "[['X' '-' 'X']\n",
      " ['-' 'O' '-']\n",
      " ['O' '-' '-']]\n",
      "O moved at  (1, 2)\n",
      "[['X' 'O' 'X']\n",
      " ['-' 'O' '-']\n",
      " ['O' '-' '-']]\n",
      "X moved at  (2, 1)\n",
      "[['X' 'O' 'X']\n",
      " ['X' 'O' '-']\n",
      " ['O' '-' '-']]\n",
      "O moved at  (3, 2)\n",
      "O Won!!\n",
      "[['X' 'O' 'X']\n",
      " ['X' 'O' '-']\n",
      " ['O' 'O' '-']]\n",
      "The state is reset!\n",
      "[['-' '-' '-']\n",
      " ['-' '-' '-']\n",
      " ['-' '-' '-']]\n"
     ]
    }
   ],
   "source": [
    "test = TicTacToe()\n",
    "test.set_position('O', 2, 2)\n",
    "test.set_position('X', 1, 1)\n",
    "test.set_position('O', 3, 1)\n",
    "test.set_position('X', 1, 3)\n",
    "test.set_position('O', 1, 2)\n",
    "test.set_position('X', 2, 1)\n",
    "test.set_position('O', 3, 2)\n",
    "test.reset()"
   ]
  },
  {
   "cell_type": "markdown",
   "id": "1d1e6c94-7380-4f32-8d98-52c8436263da",
   "metadata": {},
   "source": [
    "#### Part II: Human-vs-Human\n",
    "Below is the human-vs-human play. It will alternatively ask for user inputs and continue until someone wins or if its a draw"
   ]
  },
  {
   "cell_type": "code",
   "execution_count": 2,
   "id": "4d1825f4-5a49-4ed7-a6b5-b11a6b3ca882",
   "metadata": {},
   "outputs": [
    {
     "name": "stdout",
     "output_type": "stream",
     "text": [
      "[['-' '-' '-']\n",
      " ['-' '-' '-']\n",
      " ['-' '-' '-']]\n",
      "Welcome to the TicTacToe game!\n",
      "Player can be either X or O (alphabet O and not number 0)\n",
      "Row and column number can be between 1-3\n",
      "Turn of Player X\n"
     ]
    },
    {
     "name": "stdout",
     "output_type": "stream",
     "text": [
      "Please enter row and column number between 1-3: 11\n"
     ]
    },
    {
     "name": "stdout",
     "output_type": "stream",
     "text": [
      "X moved at  (1, 1)\n",
      "[['X' '-' '-']\n",
      " ['-' '-' '-']\n",
      " ['-' '-' '-']]\n",
      "Turn of Player O\n"
     ]
    },
    {
     "name": "stdout",
     "output_type": "stream",
     "text": [
      "Please enter row and column number between 1-3: 31\n"
     ]
    },
    {
     "name": "stdout",
     "output_type": "stream",
     "text": [
      "O moved at  (3, 1)\n",
      "[['X' '-' '-']\n",
      " ['-' '-' '-']\n",
      " ['O' '-' '-']]\n",
      "Turn of Player X\n"
     ]
    },
    {
     "name": "stdout",
     "output_type": "stream",
     "text": [
      "Please enter row and column number between 1-3: 22\n"
     ]
    },
    {
     "name": "stdout",
     "output_type": "stream",
     "text": [
      "X moved at  (2, 2)\n",
      "[['X' '-' '-']\n",
      " ['-' 'X' '-']\n",
      " ['O' '-' '-']]\n",
      "Turn of Player O\n"
     ]
    },
    {
     "name": "stdout",
     "output_type": "stream",
     "text": [
      "Please enter row and column number between 1-3: 33\n"
     ]
    },
    {
     "name": "stdout",
     "output_type": "stream",
     "text": [
      "O moved at  (3, 3)\n",
      "[['X' '-' '-']\n",
      " ['-' 'X' '-']\n",
      " ['O' '-' 'O']]\n",
      "Turn of Player X\n"
     ]
    },
    {
     "name": "stdout",
     "output_type": "stream",
     "text": [
      "Please enter row and column number between 1-3: 12\n"
     ]
    },
    {
     "name": "stdout",
     "output_type": "stream",
     "text": [
      "X moved at  (1, 2)\n",
      "[['X' 'X' '-']\n",
      " ['-' 'X' '-']\n",
      " ['O' '-' 'O']]\n",
      "Turn of Player O\n"
     ]
    },
    {
     "name": "stdout",
     "output_type": "stream",
     "text": [
      "Please enter row and column number between 1-3: 32\n"
     ]
    },
    {
     "name": "stdout",
     "output_type": "stream",
     "text": [
      "O moved at  (3, 2)\n",
      "O Won!!\n",
      "[['X' 'X' '-']\n",
      " ['-' 'X' '-']\n",
      " ['O' 'O' 'O']]\n",
      "Game completed!\n"
     ]
    }
   ],
   "source": [
    "board = TicTacToe()\n",
    "flag  = 1            # to keep track of which player is playing; 0 is for O and 1 for X\n",
    "\n",
    "while True:\n",
    "    if flag==1:\n",
    "        print('Turn of Player X')\n",
    "        user_input = input(\"Please enter row and column number between 1-3:\")\n",
    "        board.set_position('X', int(user_input[0]), int(user_input[1]))\n",
    "        flag = 0\n",
    "    else:\n",
    "        print('Turn of Player O')\n",
    "        user_input = input(\"Please enter row and column number between 1-3:\")\n",
    "        board.set_position('O', int(user_input[0]), int(user_input[1]))\n",
    "        flag = 1\n",
    "        \n",
    "    if board.finish:\n",
    "        print('Game completed!')\n",
    "        break"
   ]
  },
  {
   "cell_type": "markdown",
   "id": "e4e470af-9cb7-4c8d-ac46-28c20e3e0f39",
   "metadata": {},
   "source": [
    "#### Part III: Computer Player Logic\n",
    "The computer player implemented has a greedy approach or in other words, it is short-sighted. It takes the following sequential approach for every move:\n",
    "1. If an immediate moves leads to personal win, take that\n",
    "2. If the opponent wins in the next move, block that\n",
    "3. Otherwise, move at any random available position\n",
    "\n",
    "The above approach is a non-losing strategy in **most** cases. An ingenious human player should be able to beat this computer logic. The feedback to the computer player is the entire state of the board, which includes the self and opponent's moves, and the available positions. The space of actions are available board positions."
   ]
  },
  {
   "cell_type": "code",
   "execution_count": 3,
   "id": "29374f6c-44d4-40af-8d42-20670f602493",
   "metadata": {},
   "outputs": [],
   "source": [
    "def check_imm_win(state_space, player):\n",
    "    '''\n",
    "    checks if a players's immediate move will lead to a win and returns those coordinates\n",
    "    Args:\n",
    "        state_space: state of complete 3x3 matrix\n",
    "        player     : the player (X or O) to check for\n",
    "    ''' \n",
    "    for i in range(3):\n",
    "        array_emp  = np.where(state_space[i,:]=='-')\n",
    "        array_play = np.where(state_space[i,:]==player)\n",
    "        if len(array_play[0])==2 and len(array_emp[0])==1:\n",
    "            return [i+1,int(array_emp[0])+1]\n",
    "        \n",
    "        array_emp  = np.where(state_space[:,i]=='-')\n",
    "        array_play = np.where(state_space[:,i]==player)\n",
    "        if len(array_play[0])==2 and len(array_emp[0])==1:\n",
    "            return [int(array_emp[0])+1, i+1]\n",
    "        \n",
    "    # check for diagonals\n",
    "    array_emp   = np.where(state_space.diagonal()=='-')\n",
    "    array_play  = np.where(state_space.diagonal()==player)\n",
    "    if len(array_play[0])==2 and len(array_emp[0])==1:\n",
    "         return [int(array_emp[0])+1, int(array_emp[0])+1] \n",
    "        \n",
    "    # check for anti-diagonals\n",
    "    array_emp   = np.where(np.fliplr(state_space).diagonal()=='-')\n",
    "    array_play  = np.where(np.fliplr(state_space).diagonal()==player)\n",
    "    if len(array_play[0])==2 and len(array_emp[0])==1:\n",
    "         return [int(array_emp[0])+1, 3-int(array_emp[0])] \n",
    "\n",
    "\n",
    "def computer_player(state_space):\n",
    "    '''\n",
    "    impelements the logic of the computer player\n",
    "    Args:\n",
    "        state_space: state of complete 3x3 matrix\n",
    "    '''    \n",
    "    # check which states are empty to move\n",
    "    empty_states = []\n",
    "    for i in range(3):\n",
    "        for j in range(3):\n",
    "            if state_space[i,j]=='-':\n",
    "                if i==0:\n",
    "                    empty_states.append(j+1)\n",
    "                elif i==1:\n",
    "                    empty_states.append(3+j+1)\n",
    "                else:\n",
    "                    empty_states.append(6+j+1)\n",
    "                    \n",
    "    # check for computer's win\n",
    "    moves = check_imm_win(state_space, 'O')\n",
    "    if moves!=None:\n",
    "        return moves\n",
    "        \n",
    "    # check for human's win\n",
    "    moves = check_imm_win(state_space, 'X')\n",
    "    if moves!=None:\n",
    "        return moves\n",
    "    \n",
    "    # if above two does not return, make a valid random move\n",
    "    random_state = random.choice(empty_states)\n",
    "    if random_state%3==0:\n",
    "        return [int(random_state/3),3]\n",
    "    else:\n",
    "        return [int(random_state/3)+1, random_state%3]    \n",
    "            "
   ]
  },
  {
   "cell_type": "markdown",
   "id": "77e475a7-0e75-4f99-8fc8-6dc1d62c1f75",
   "metadata": {},
   "source": [
    "#### Part IV: Human-vs-Computer\n",
    "Below is the human-vs-computer play"
   ]
  },
  {
   "cell_type": "code",
   "execution_count": 5,
   "id": "607ee349-d756-4632-96b0-fc81fb07f708",
   "metadata": {},
   "outputs": [
    {
     "name": "stdout",
     "output_type": "stream",
     "text": [
      "[['-' '-' '-']\n",
      " ['-' '-' '-']\n",
      " ['-' '-' '-']]\n",
      "Welcome to the TicTacToe game!\n",
      "Player can be either X or O (alphabet O and not number 0)\n",
      "Row and column number can be between 1-3\n",
      "Turn of Human Player X\n"
     ]
    },
    {
     "name": "stdout",
     "output_type": "stream",
     "text": [
      "Please enter row and column number between 1-3: 22\n"
     ]
    },
    {
     "name": "stdout",
     "output_type": "stream",
     "text": [
      "X moved at  (2, 2)\n",
      "[['-' '-' '-']\n",
      " ['-' 'X' '-']\n",
      " ['-' '-' '-']]\n",
      "Turn of Computer Player O\n",
      "O moved at  (1, 1)\n",
      "[['O' '-' '-']\n",
      " ['-' 'X' '-']\n",
      " ['-' '-' '-']]\n",
      "Turn of Human Player X\n"
     ]
    },
    {
     "name": "stdout",
     "output_type": "stream",
     "text": [
      "Please enter row and column number between 1-3: 31\n"
     ]
    },
    {
     "name": "stdout",
     "output_type": "stream",
     "text": [
      "X moved at  (3, 1)\n",
      "[['O' '-' '-']\n",
      " ['-' 'X' '-']\n",
      " ['X' '-' '-']]\n",
      "Turn of Computer Player O\n",
      "O moved at  (1, 3)\n",
      "[['O' '-' 'O']\n",
      " ['-' 'X' '-']\n",
      " ['X' '-' '-']]\n",
      "Turn of Human Player X\n"
     ]
    },
    {
     "name": "stdout",
     "output_type": "stream",
     "text": [
      "Please enter row and column number between 1-3: 12\n"
     ]
    },
    {
     "name": "stdout",
     "output_type": "stream",
     "text": [
      "X moved at  (1, 2)\n",
      "[['O' 'X' 'O']\n",
      " ['-' 'X' '-']\n",
      " ['X' '-' '-']]\n",
      "Turn of Computer Player O\n",
      "O moved at  (3, 2)\n",
      "[['O' 'X' 'O']\n",
      " ['-' 'X' '-']\n",
      " ['X' 'O' '-']]\n",
      "Turn of Human Player X\n"
     ]
    },
    {
     "name": "stdout",
     "output_type": "stream",
     "text": [
      "Please enter row and column number between 1-3: 21\n"
     ]
    },
    {
     "name": "stdout",
     "output_type": "stream",
     "text": [
      "X moved at  (2, 1)\n",
      "[['O' 'X' 'O']\n",
      " ['X' 'X' '-']\n",
      " ['X' 'O' '-']]\n",
      "Turn of Computer Player O\n",
      "O moved at  (2, 3)\n",
      "[['O' 'X' 'O']\n",
      " ['X' 'X' 'O']\n",
      " ['X' 'O' '-']]\n",
      "Turn of Human Player X\n"
     ]
    },
    {
     "name": "stdout",
     "output_type": "stream",
     "text": [
      "Please enter row and column number between 1-3: 33\n"
     ]
    },
    {
     "name": "stdout",
     "output_type": "stream",
     "text": [
      "X moved at  (3, 3)\n",
      "The game is a draw! :/\n",
      "[['O' 'X' 'O']\n",
      " ['X' 'X' 'O']\n",
      " ['X' 'O' 'X']]\n",
      "Game completed!\n"
     ]
    }
   ],
   "source": [
    "board = TicTacToe()\n",
    "flag  = 1            # to keep track of which player is playing; 0 is for O and 1 for X\n",
    "\n",
    "while True:\n",
    "    if flag==1:\n",
    "        print('Turn of Human Player X')\n",
    "        user_input = input(\"Please enter row and column number between 1-3:\")\n",
    "        board.set_position('X', int(user_input[0]), int(user_input[1]))\n",
    "        flag = 0\n",
    "    else:\n",
    "        print('Turn of Computer Player O')\n",
    "        out_moves = computer_player(board.state)\n",
    "        board.set_position('O', out_moves[0], out_moves[1])\n",
    "        flag = 1\n",
    "        \n",
    "    if board.finish:\n",
    "        print('Game completed!')\n",
    "        break"
   ]
  },
  {
   "cell_type": "code",
   "execution_count": null,
   "id": "38982307-11c6-461f-9980-d7aef80751bb",
   "metadata": {},
   "outputs": [],
   "source": []
  }
 ],
 "metadata": {
  "kernelspec": {
   "display_name": "Python 3.7 (XPython)",
   "language": "python",
   "name": "xpython"
  },
  "language_info": {
   "file_extension": ".py",
   "mimetype": "text/x-python",
   "name": "python",
   "version": "3.7.10"
  }
 },
 "nbformat": 4,
 "nbformat_minor": 5
}
