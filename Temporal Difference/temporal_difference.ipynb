{
 "cells": [
  {
   "cell_type": "markdown",
   "id": "0774cbb0",
   "metadata": {},
   "source": [
    "#### Author: Aditya Jain\n",
    "#### Topic : TD(n) and Mountain Car"
   ]
  },
  {
   "cell_type": "code",
   "execution_count": 1,
   "id": "ff27d7e3-421d-48e3-a606-aae1d7a97d96",
   "metadata": {},
   "outputs": [],
   "source": [
    "import matplotlib.pyplot as plt\n",
    "import gym\n",
    "from IPython import display as ipythondisplay\n",
    "import numpy as np\n",
    "import json\n",
    "import pickle"
   ]
  },
  {
   "cell_type": "markdown",
   "id": "0611175a-e237-4cdd-ac7c-7fe2e852777d",
   "metadata": {},
   "source": [
    "#### Exercise 1: Prelims\n",
    "Here we explore the mountain car environment"
   ]
  },
  {
   "cell_type": "code",
   "execution_count": 8,
   "id": "36bc4da3-98a6-4038-8a48-46cf750fa2fc",
   "metadata": {},
   "outputs": [
    {
     "name": "stdout",
     "output_type": "stream",
     "text": [
      "Observation Space:  Box([-1.2  -0.07], [0.6  0.07], (2,), float32)\n",
      "Action Space:  Discrete(3)\n"
     ]
    }
   ],
   "source": [
    "env = gym.make('MountainCar-v0')\n",
    "\n",
    "print('Observation Space: ', env.observation_space)\n",
    "print('Action Space: ', env.action_space)"
   ]
  },
  {
   "cell_type": "markdown",
   "id": "02b5a4e6-57a2-4221-8d30-c049fd62df51",
   "metadata": {},
   "source": [
    "The environment's state space is represented by two variables: car position and car velocity. The car position can vary from -1.2 to 0.6 and velocity varies from -0.07 to 0.07.\n",
    "The agent can choose to take 3 actions: accelerate left (0), accelerate right (2) or don't accelerate (1). The environment's model is not available, hence, we cannot use DP."
   ]
  },
  {
   "cell_type": "code",
   "execution_count": 9,
   "id": "1342b241-574e-4f1e-9cc4-3eb4735626cc",
   "metadata": {},
   "outputs": [
    {
     "data": {
      "image/png": "[encoded data removed]",
      "text/plain": [
       "<Figure size 640x480 with 1 Axes>"
      ]
     },
     "metadata": {},
     "output_type": "display_data"
    }
   ],
   "source": [
    "env.reset()\n",
    "prev_screen = env.render(mode='rgb_array')\n",
    "plt.imshow(prev_screen)\n",
    "\n",
    "for _ in range(10):\n",
    "    env.step(env.action_space.sample()) # take a random action\n",
    "    screen = env.render(mode='rgb_array')  \n",
    "    plt.imshow(screen)\n",
    "    \n",
    "    ipythondisplay.clear_output(wait=True)\n",
    "    ipythondisplay.display(plt.gcf())\n",
    "    \n",
    "env.close()"
   ]
  },
  {
   "cell_type": "markdown",
   "id": "c3c48497-247c-497a-a3dc-357a5c69ebe4",
   "metadata": {},
   "source": [
    "#### Check Controller Performance\n",
    "The below function is used to check the RL controller over n (=1000) trials"
   ]
  },
  {
   "cell_type": "code",
   "execution_count": 2,
   "id": "bad91567-ff66-4d40-a392-a709aa1998a9",
   "metadata": {},
   "outputs": [],
   "source": [
    "def control_performance(env_name, pos_fac, vel_fac, policy, no_actions, trials):\n",
    "    \n",
    "    env          = gym.make(env_name)\n",
    "    reward_list  = []\n",
    "    steps_list   = []\n",
    "    reached_goal = 0\n",
    "    \n",
    "    for i in range(trials):\n",
    "        done           = False\n",
    "        episode_reward = 0\n",
    "        obs            = env.reset()\n",
    "        obs            = process_state(obs, pos_fac, vel_fac)\n",
    "        steps          = 0\n",
    "        \n",
    "        while not done:\n",
    "            action                  = np.random.choice(no_actions, p=policy[obs])\n",
    "            obs, reward, done, info = env.step(action)\n",
    "            steps                   += 1\n",
    "            episode_reward          += reward\n",
    "            obs                     = process_state(obs, pos_fac, vel_fac)\n",
    "            \n",
    "        if steps<200:\n",
    "            steps_list.append(steps)\n",
    "            reached_goal += 1            \n",
    "            \n",
    "        reward_list.append(episode_reward)\n",
    "        \n",
    "    return reached_goal, steps_list"
   ]
  },
  {
   "cell_type": "markdown",
   "id": "c0df91f5-27f6-4526-bd0f-08be0548bb23",
   "metadata": {},
   "source": [
    "Defining some helper functions"
   ]
  },
  {
   "cell_type": "code",
   "execution_count": 3,
   "id": "d44a2e24-785e-44dd-a930-1573c0c67a3d",
   "metadata": {},
   "outputs": [],
   "source": [
    "def epsilon_greedy_action_policy(obs, epsilon, no_actions, policy): \n",
    "    '''chooses epsilon greedy action given a policy'''\n",
    "    \n",
    "    if np.random.rand()<epsilon:\n",
    "        action = np.random.choice(no_actions, p=[1/no_actions, 1/no_actions, 1/no_actions]) \n",
    "    else:\n",
    "        action = np.random.choice(no_actions, p=policy[obs]) \n",
    "    \n",
    "    return action\n",
    "    \n",
    "    \n",
    "def process_state(state, p_fac, v_fac):\n",
    "    return (round(state[0]*p_fac), round(state[1]*v_fac))\n",
    "\n",
    "\n",
    "def epsilon_greedy_action_Q(obs, epsilon, no_actions, Qpi_sa): \n",
    "    '''chooses epsilon greedy action given Q function'''\n",
    "    \n",
    "    if np.random.rand()<epsilon:  # random action \n",
    "        action = np.random.choice(no_actions, p=[1/no_actions, 1/no_actions, 1/no_actions]) \n",
    "    else:                         # greedy actions\n",
    "        qpi_list = []        \n",
    "        for action in range(no_actions):\n",
    "            qpi_list.append(Qpi_sa[obs, action])\n",
    "            \n",
    "        maxa_list = np.argwhere(qpi_list == np.amax(qpi_list))\n",
    "        maxa_list_indx = []\n",
    "        \n",
    "        # indices that have max. q values\n",
    "        for item in maxa_list:\n",
    "            maxa_list_indx.append(item[0])\n",
    "            \n",
    "        act_probab = [0, 0, 0]\n",
    "        for i in range(no_actions):\n",
    "            if i in maxa_list_indx:\n",
    "                act_probab[i] = 1/len(maxa_list_indx)\n",
    "            else:\n",
    "                act_probab[i] = 0\n",
    "        \n",
    "        action = np.random.choice(no_actions, p=act_probab) \n",
    "    \n",
    "    return action\n",
    "\n",
    "def get_policy(state_list, Qpi_sa):\n",
    "    ''''\n",
    "    based on the Q function, returns the policy\n",
    "    '''\n",
    "    \n",
    "    policy = {}    \n",
    "    \n",
    "    for state in state_list:\n",
    "        qpi_list = []\n",
    "        \n",
    "        for action in range(no_actions):\n",
    "            qpi_list.append(Qpi_sa[state, action])\n",
    "        \n",
    "        maxa_list      = np.argwhere(qpi_list == np.amax(qpi_list))\n",
    "        maxa_list_indx = []\n",
    "        \n",
    "        # indices that have max. q values\n",
    "        for item in maxa_list:\n",
    "            maxa_list_indx.append(item[0])\n",
    "            \n",
    "        # updating the new policy policy\n",
    "        policy[state] = [0, 0, 0]\n",
    "        for i in range(no_actions):\n",
    "            if i in maxa_list_indx:\n",
    "                policy[state][i] = 1/len(maxa_list_indx)\n",
    "            else:\n",
    "                policy[state][i] = 0\n",
    "                \n",
    "    return policy"
   ]
  },
  {
   "cell_type": "markdown",
   "id": "8b2fafbb-4baf-4f23-8e87-a33a3ce5e8ef",
   "metadata": {},
   "source": [
    "##### Random Policy"
   ]
  },
  {
   "cell_type": "code",
   "execution_count": 83,
   "id": "63720dd4-5398-4ec9-9121-5fcd7490b09b",
   "metadata": {},
   "outputs": [
    {
     "name": "stdout",
     "output_type": "stream",
     "text": [
      "Success rate of random policy over 1000 runs:  0.0 %\n"
     ]
    }
   ],
   "source": [
    "random_policy_pi = {}\n",
    "\n",
    "for item in state_list:\n",
    "    random_policy_pi[item] = [1/no_actions, 1/no_actions, 1/no_actions] # action is 0, 1 or 2\n",
    "    \n",
    "success, steps = control_performance('MountainCar-v0', pos_fac, vel_fac, random_policy_pi, no_actions, 1000)\n",
    "print('Success rate of random policy over 1000 runs: ', (success/1000)*100, '%')\n",
    "if len(steps)!=0:    \n",
    "    print('Average steps taken to reach the goal: ', sum(steps)/len(steps))"
   ]
  },
  {
   "cell_type": "markdown",
   "id": "7c042d62-670e-452c-87b8-32ddbd8c402b",
   "metadata": {},
   "source": [
    "#### Task 1: TD(0) On-Policy SARSA\n",
    "Intialization of an arbitrary state-action value function\n"
   ]
  },
  {
   "cell_type": "code",
   "execution_count": 22,
   "id": "3e568c2c-b725-4707-8745-3484a3fa8244",
   "metadata": {},
   "outputs": [],
   "source": [
    "Qpi_sa     = {}\n",
    "state_list = [] # contains the list of states\n",
    "no_actions = 3   # 0, 1 and 2\n",
    "\n",
    "# multiplicative factor of 100\n",
    "pos_min    = -120\n",
    "pos_max    = 60\n",
    "pos_inc    = 1\n",
    "pos_fac    = 100\n",
    "\n",
    "# multiplicative factor of 100\n",
    "vel_min    = -7\n",
    "vel_max    = 7\n",
    "vel_inc    = 1\n",
    "vel_fac    = 100\n",
    "\n",
    "for pos in range(pos_min, pos_max+1, pos_inc):\n",
    "    for vel in range(vel_min, vel_max+1, vel_inc):\n",
    "        state_list.append((pos, vel))\n",
    "        for action in range(no_actions):\n",
    "            Qpi_sa[(pos, vel), action] = 0"
   ]
  },
  {
   "cell_type": "markdown",
   "id": "e9c71bf6-db9a-4e6b-b5d9-870ea290ebfc",
   "metadata": {},
   "source": [
    "Intialization of an arbitrary policy based on Qpi"
   ]
  },
  {
   "cell_type": "code",
   "execution_count": 23,
   "id": "f2125efa-9f5e-47c1-a013-1414c50031fc",
   "metadata": {},
   "outputs": [],
   "source": [
    "policy_pi = {}\n",
    "\n",
    "for key in Qpi_sa.keys():\n",
    "    policy_pi[key[0]] = [1/no_actions, 1/no_actions, 1/no_actions] # action is 0, 1 or 2"
   ]
  },
  {
   "cell_type": "code",
   "execution_count": 17,
   "id": "66887c97-6de4-4509-986b-314388960905",
   "metadata": {},
   "outputs": [],
   "source": [
    "env         = gym.make('MountainCar-v0')\n",
    "\n",
    "episodes    = 0\n",
    "epsilon     = 0.1\n",
    "alpha       = 0.5\n",
    "gamma       = 0.9\n",
    "converged   = False\n",
    "\n",
    "while not converged:\n",
    "    episodes += 1\n",
    "    \n",
    "    cur_obs     = env.reset()\n",
    "    cur_obs     = process_state(cur_obs, pos_fac, vel_fac)\n",
    "    cur_action  = epsilon_greedy_action_policy(cur_obs, epsilon, no_actions, policy_pi)\n",
    "    done        = False\n",
    "    \n",
    "    while not done:        \n",
    "        next_obs, reward, done, info = env.step(cur_action)\n",
    "        next_obs                     = process_state(next_obs, pos_fac, vel_fac)\n",
    "        next_action                  = epsilon_greedy_action_policy(next_obs, epsilon, no_actions, policy_pi)\n",
    "        Qpi_sa[cur_obs,cur_action]   = Qpi_sa[cur_obs,cur_action] + alpha*(reward + gamma*Qpi_sa[next_obs,next_action] - Qpi_sa[cur_obs,cur_action])\n",
    "        cur_obs                      = next_obs\n",
    "        cur_action                   = next_action\n",
    "        \n",
    "    new_policy  = get_policy(state_list, Qpi_sa)    \n",
    "    if new_policy==policy_pi:\n",
    "        converged = True\n",
    "        \n",
    "    policy_pi = new_policy"
   ]
  },
  {
   "cell_type": "code",
   "execution_count": 85,
   "id": "421bd28c-ad2f-495a-83e4-9f6a36714b91",
   "metadata": {},
   "outputs": [
    {
     "name": "stdout",
     "output_type": "stream",
     "text": [
      "Episodes took to converge for on-policy SARSA:  11413\n",
      "Success rate of on-policy SARSA control over 1000 runs:  6.5 %\n",
      "Average steps taken to reach the goal:  178.56923076923076\n"
     ]
    }
   ],
   "source": [
    "pickle.dump(policy_pi, open(\"task1_onpolicy-sarsa.p\", \"wb\" ))\n",
    "print('Episodes took to converge for on-policy SARSA: ', episodes)\n",
    "success, steps = control_performance('MountainCar-v0', pos_fac, vel_fac, policy_pi, no_actions, 1000)\n",
    "print('Success rate of on-policy SARSA control over 1000 runs: ', (success/1000)*100, '%')\n",
    "print('Average steps taken to reach the goal: ', sum(steps)/len(steps))"
   ]
  },
  {
   "cell_type": "markdown",
   "id": "f4babd04-56de-4322-8289-dfe64c81d359",
   "metadata": {},
   "source": [
    "#### Task 1: TD(0) On-Policy Expected SARSA\n",
    "Intialization of an arbitrary state-action value function"
   ]
  },
  {
   "cell_type": "code",
   "execution_count": 86,
   "id": "f178ca62-b11f-4d4a-bd34-461c0ef1fd84",
   "metadata": {},
   "outputs": [],
   "source": [
    "Qpi_sa     = {}\n",
    "state_list = [] # contains the list of states\n",
    "no_actions = 3   # 0, 1 and 2\n",
    "\n",
    "# multiplicative factor of 100\n",
    "pos_min    = -120\n",
    "pos_max    = 60\n",
    "pos_inc    = 1\n",
    "pos_fac    = 100\n",
    "\n",
    "# multiplicative factor of 100\n",
    "vel_min    = -7\n",
    "vel_max    = 7\n",
    "vel_inc    = 1\n",
    "vel_fac    = 100\n",
    "\n",
    "for pos in range(pos_min, pos_max+1, pos_inc):\n",
    "    for vel in range(vel_min, vel_max+1, vel_inc):\n",
    "        state_list.append((pos, vel))\n",
    "        for action in range(no_actions):\n",
    "            Qpi_sa[(pos, vel), action] = 0"
   ]
  },
  {
   "cell_type": "code",
   "execution_count": 87,
   "id": "5fd83633-9d02-4841-894b-a754a4cdf86b",
   "metadata": {},
   "outputs": [],
   "source": [
    "policy_pi = {}\n",
    "\n",
    "for item in state_list:\n",
    "    policy_pi[item] = [1/no_actions, 1/no_actions, 1/no_actions] # action is 0, 1 or 2"
   ]
  },
  {
   "cell_type": "code",
   "execution_count": 88,
   "id": "63c020c0-a5a8-4e3f-af02-e80bb4417535",
   "metadata": {},
   "outputs": [],
   "source": [
    "env         = gym.make('MountainCar-v0')\n",
    "\n",
    "episodes    = 0\n",
    "epsilon     = 0.1\n",
    "alpha       = 0.5\n",
    "gamma       = 0.9\n",
    "converged   = False\n",
    "\n",
    "while not converged:\n",
    "    episodes += 1\n",
    "    \n",
    "    # Policy Evaluation\n",
    "    cur_obs     = env.reset()\n",
    "    cur_obs     = process_state(cur_obs, pos_fac, vel_fac)\n",
    "    cur_action  = epsilon_greedy_action_policy(cur_obs, epsilon, no_actions, policy_pi)\n",
    "    done        = False\n",
    "    \n",
    "    while not done:        \n",
    "        next_obs, reward, done, info = env.step(cur_action)\n",
    "        next_obs                     = process_state(next_obs, pos_fac, vel_fac)\n",
    "        next_action                  = epsilon_greedy_action_policy(next_obs, epsilon, no_actions, policy_pi)\n",
    "        expect_q_sum                 = 0\n",
    "        for action in range(no_actions):\n",
    "            expect_q_sum             += policy_pi[next_obs][action]* Qpi_sa[next_obs, action]\n",
    "            \n",
    "        Qpi_sa[cur_obs,cur_action]   = Qpi_sa[cur_obs,cur_action] + alpha*(reward + gamma*expect_q_sum - Qpi_sa[cur_obs,cur_action])\n",
    "        cur_obs                      = next_obs\n",
    "        cur_action                   = next_action\n",
    "        \n",
    "        \n",
    "    # Policy Improvement\n",
    "    new_policy_pi  = get_policy(state_list, Qpi_sa)                \n",
    "    if new_policy_pi==policy_pi:\n",
    "        converged = True\n",
    "        \n",
    "    policy_pi = new_policy_pi \n",
    "    \n",
    "pickle.dump(policy_pi, open(\"task1_onpolicy-expectedsarsa.p\", \"wb\" ))"
   ]
  },
  {
   "cell_type": "code",
   "execution_count": 90,
   "id": "3d8b95e1-5fd1-4fd4-9786-3cde8996a2a3",
   "metadata": {},
   "outputs": [
    {
     "name": "stdout",
     "output_type": "stream",
     "text": [
      "Episodes took to converge for on-policy Expected SARSA:  9518\n",
      "Success rate of on-policy Expected SARSA control over 1000 runs:  7.3 %\n",
      "Average steps taken to reach the goal:  171.32876712328766\n"
     ]
    }
   ],
   "source": [
    "print('Episodes took to converge for on-policy Expected SARSA: ', episodes)\n",
    "success, steps = control_performance('MountainCar-v0', pos_fac, vel_fac, policy_pi, no_actions, 1000)\n",
    "print('Success rate of on-policy Expected SARSA control over 1000 runs: ', (success/1000)*100, '%')\n",
    "print('Average steps taken to reach the goal: ', sum(steps)/len(steps))"
   ]
  },
  {
   "cell_type": "markdown",
   "id": "bde5d04a-206a-4dc8-a550-ff1b216a4d27",
   "metadata": {},
   "source": [
    "#### Task 1: TD(0) Off-Policy Expected SARSA with a greedy control policy\n",
    "Intialization of an arbitrary state-action value function"
   ]
  },
  {
   "cell_type": "code",
   "execution_count": 118,
   "id": "70f01a0c-8a77-46f4-8b81-b63f6cd91b40",
   "metadata": {},
   "outputs": [],
   "source": [
    "Qpi_sa     = {}\n",
    "state_list = [] # contains the list of states\n",
    "no_actions = 3   # 0, 1 and 2\n",
    "\n",
    "# multiplicative factor of 100\n",
    "pos_min    = -120\n",
    "pos_max    = 60\n",
    "pos_inc    = 1\n",
    "pos_fac    = 100\n",
    "\n",
    "# multiplicative factor of 100\n",
    "vel_min    = -7\n",
    "vel_max    = 7\n",
    "vel_inc    = 1\n",
    "vel_fac    = 100\n",
    "\n",
    "for pos in range(pos_min, pos_max+1, pos_inc):\n",
    "    for vel in range(vel_min, vel_max+1, vel_inc):\n",
    "        state_list.append((pos, vel))\n",
    "        for action in range(no_actions):\n",
    "            Qpi_sa[(pos, vel), action] = 0"
   ]
  },
  {
   "cell_type": "markdown",
   "id": "701f7c6e-9f87-4bb7-9999-f03ee5eefc1a",
   "metadata": {},
   "source": [
    "Initialization of behaviour (B) and target (Pi) policy"
   ]
  },
  {
   "cell_type": "code",
   "execution_count": 119,
   "id": "6d5659e7-1642-4f1e-aafe-39b519ad3369",
   "metadata": {},
   "outputs": [],
   "source": [
    "policy_pi = {}             # target policy\n",
    "\n",
    "for item in state_list:\n",
    "    policy_pi[item] = [1/no_actions, 1/no_actions, 1/no_actions] # action is 0, 1 or 2\n",
    "    \n",
    "policy_b  = policy_pi      # behaviour policy"
   ]
  },
  {
   "cell_type": "code",
   "execution_count": 120,
   "id": "cb25bbd6-be9e-40fd-907e-7e354fe1b481",
   "metadata": {},
   "outputs": [],
   "source": [
    "def update_behaviour_policy(pol_pi, state_list, no_actions, epsilon):\n",
    "    '''\n",
    "    makes the behaviour policy exploratory with respect to policy pi\n",
    "    '''\n",
    "    pol_b = {}\n",
    "    \n",
    "    for state in state_list:\n",
    "        nonzeroind   = np.nonzero(policy_pi[state])[0]\n",
    "        pol_b[state] = [0,0,0]\n",
    "        \n",
    "        for action in range(no_actions):\n",
    "            if action not in nonzeroind:\n",
    "                pol_b[state][action] = epsilon/no_actions \n",
    "            else:\n",
    "                pol_b[state][action] = policy_pi[state][action] - ((no_actions-len(nonzeroind))/len(nonzeroind))*(epsilon/no_actions)\n",
    "                \n",
    "    return pol_b\n",
    "\n"
   ]
  },
  {
   "cell_type": "code",
   "execution_count": 121,
   "id": "58cf1b0c-f1ea-46d6-ba5d-af09ee833179",
   "metadata": {},
   "outputs": [],
   "source": [
    "env         = gym.make('MountainCar-v0')\n",
    "\n",
    "episodes    = 0\n",
    "epsilon     = 0.1\n",
    "alpha       = 0.5\n",
    "gamma       = 0.9\n",
    "converged   = False\n",
    "\n",
    "while not converged:\n",
    "    episodes += 1\n",
    "    \n",
    "    # Policy Evaluation\n",
    "    cur_obs     = env.reset()\n",
    "    cur_obs     = process_state(cur_obs, pos_fac, vel_fac)\n",
    "    cur_action  = np.random.choice(no_actions, p=policy_b[cur_obs])     # action chosen from behaviour policy\n",
    "    done        = False\n",
    "    \n",
    "    while not done:        \n",
    "        next_obs, reward, done, info = env.step(cur_action)\n",
    "        next_obs                     = process_state(next_obs, pos_fac, vel_fac)\n",
    "        next_action                  = np.random.choice(no_actions, p=policy_b[next_obs])     # action chosen from behaviour policy\n",
    "        expect_q_sum                 = 0\n",
    "        for action in range(no_actions):\n",
    "            expect_q_sum             += policy_pi[next_obs][action]* Qpi_sa[next_obs, action]\n",
    "            \n",
    "        Qpi_sa[cur_obs,cur_action]   = Qpi_sa[cur_obs,cur_action] + alpha*(reward + gamma*expect_q_sum - Qpi_sa[cur_obs,cur_action])\n",
    "        cur_obs                      = next_obs\n",
    "        cur_action                   = next_action\n",
    "        \n",
    "        \n",
    "    # Policy Improvement\n",
    "    new_policy_pi  = get_policy(state_list, Qpi_sa)                 \n",
    "    if new_policy_pi==policy_pi:\n",
    "        converged = True\n",
    "        \n",
    "    policy_pi = new_policy_pi \n",
    "    policy_b  = update_behaviour_policy(policy_pi, state_list, no_actions, epsilon)\n",
    "    \n",
    "pickle.dump(policy_pi, open(\"task1_offpolicy-expectedsarsa.p\", \"wb\" ))"
   ]
  },
  {
   "cell_type": "code",
   "execution_count": 122,
   "id": "0677e5df-4d02-46d2-a2b2-e34b9ba1d376",
   "metadata": {},
   "outputs": [
    {
     "name": "stdout",
     "output_type": "stream",
     "text": [
      "Episodes took to converge for off-policy Expected SARSA:  9189\n",
      "Success rate of off-policy Expected SARSA control over 1000 runs:  12.5 %\n",
      "Average steps taken to reach the goal:  174.88\n"
     ]
    }
   ],
   "source": [
    "print('Episodes took to converge for off-policy Expected SARSA: ', episodes)\n",
    "success, steps = control_performance('MountainCar-v0', pos_fac, vel_fac, policy_pi, no_actions, 1000)\n",
    "print('Success rate of off-policy Expected SARSA control over 1000 runs: ', (success/1000)*100, '%')\n",
    "print('Average steps taken to reach the goal: ', sum(steps)/len(steps))"
   ]
  },
  {
   "cell_type": "markdown",
   "id": "155183ec-4dda-427b-9359-3b4ef0dda566",
   "metadata": {},
   "source": [
    "#### Task 1 Comparison"
   ]
  },
  {
   "cell_type": "markdown",
   "id": "05b667b2-f2f0-4c30-85b0-24fbab454359",
   "metadata": {},
   "source": [
    "| Controller Type | Episodes Taken to Converge | Success Rate | Avg. Steps to Goal |\n",
    "| --- | --- | --- | --- |\n",
    "| On-policy SARSA | 11413 | 6.5 % | 178.57 | \n",
    "| On-policy Expected SARSA | 9518 | 7.3 % | 171.32 |\n",
    "| Off-policy Expected SARSA | 9189 | 12.5 % | 174.88 |\n",
    "\n",
    "It is evident that expected SARSA converges faster to the optimal policy as compared to SARSA. The expected versions also have better success rates. There is a significant performance difference between on-policy and off-policy expected SARSA. The off-policy version has ~71% additional success rate over on-policy. This can be attributed to sufficient exploration in off-policy expected SARSA."
   ]
  },
  {
   "cell_type": "markdown",
   "id": "40694095-93c5-417c-9996-f3f2c487a80b",
   "metadata": {},
   "source": [
    "#### Exercise 2: TD(n) - nstep SARSA control\n",
    "Contains an implementation of control algorithms that use TD(n) SARSA. The implementation is tested in Task 2"
   ]
  },
  {
   "cell_type": "code",
   "execution_count": 4,
   "id": "d3f576a2-4ef7-4104-bd23-ec25721a8c07",
   "metadata": {},
   "outputs": [],
   "source": [
    "def n_sarsa(epsilon, alpha, gamma, n_step): \n",
    "    \n",
    "    Qpi_sa     = {}\n",
    "    state_list = [] # contains the list of states\n",
    "    no_actions = 3   # 0, 1 and 2\n",
    "\n",
    "    # multiplicative factor of 100\n",
    "    pos_min    = -120\n",
    "    pos_max    = 60\n",
    "    pos_inc    = 1\n",
    "    pos_fac    = 100\n",
    "\n",
    "    # multiplicative factor of 100\n",
    "    vel_min    = -7\n",
    "    vel_max    = 7\n",
    "    vel_inc    = 1\n",
    "    vel_fac    = 100\n",
    "\n",
    "    for pos in range(pos_min, pos_max+1, pos_inc):\n",
    "        for vel in range(vel_min, vel_max+1, vel_inc):\n",
    "            state_list.append((pos, vel))\n",
    "            for action in range(no_actions):\n",
    "                Qpi_sa[(pos, vel), action] = 0\n",
    "                \n",
    "    policy_pi = {}\n",
    "    for item in state_list:\n",
    "        policy_pi[item] = [1/no_actions, 1/no_actions, 1/no_actions] # action is 0, 1 or 2\n",
    "        \n",
    "        \n",
    "    env         = gym.make('MountainCar-v0')\n",
    "\n",
    "    episodes    = 0\n",
    "    converged   = False\n",
    "\n",
    "    while not converged:\n",
    "        episodes += 1\n",
    "    \n",
    "        ## Policy Evaluation ##\n",
    "        cur_obs     = env.reset()\n",
    "        cur_obs     = process_state(cur_obs, pos_fac, vel_fac)\n",
    "        cur_action  = epsilon_greedy_action_policy(cur_obs, epsilon, no_actions, policy_pi)\n",
    "        done        = False\n",
    "        t           = 0\n",
    "        t_term      = pow(10,8)              # the termination step\n",
    "        trans_list  = []\n",
    "        trans_list.append([cur_obs, cur_action])\n",
    "    \n",
    "        while not done:        \n",
    "            next_obs, reward, done, info = env.step(cur_action)     \n",
    "            if done:\n",
    "                t_term = t+1\n",
    "            next_obs                     = process_state(next_obs, pos_fac, vel_fac) \n",
    "            next_action                  = epsilon_greedy_action_policy(next_obs, epsilon, no_actions, policy_pi)\n",
    "            cur_obs                      = next_obs\n",
    "            cur_action                   = next_action\n",
    "            trans_list.append([next_obs, next_action, reward])\n",
    "        \n",
    "            tau = t-n_step+1        \n",
    "            if tau>=0:       \n",
    "                G   = 0\n",
    "                for i in range(tau+1, min((tau+n_step+1), t_term+1)):\n",
    "                    G += pow(gamma, i-tau-1)*trans_list[i][2]\n",
    "            \n",
    "                if tau+n_step<t_term:\n",
    "                    G += pow(gamma, n_step)*Qpi_sa[trans_list[tau+n_step][0], trans_list[tau+n_step][1]]\n",
    "            \n",
    "                Qpi_sa[trans_list[tau][0], trans_list[tau][1]]  = Qpi_sa[trans_list[tau][0], trans_list[tau][1]] + alpha*(G - Qpi_sa[trans_list[tau][0], trans_list[tau][1]])\n",
    "            \n",
    "            t += 1\n",
    "        \n",
    "        new_policy  = get_policy(state_list, Qpi_sa)    \n",
    "        if new_policy==policy_pi:\n",
    "            converged = True\n",
    "        \n",
    "        policy_pi = new_policy\n",
    "        \n",
    "    return policy_pi, episodes\n"
   ]
  },
  {
   "cell_type": "markdown",
   "id": "bbe668f3-12e8-4626-9519-06b7a895d395",
   "metadata": {},
   "source": [
    "#### Exercise 2: TD(n) Off-Policy Tree Backup Control\n",
    "The below implementation is tested in bonus task 3"
   ]
  },
  {
   "cell_type": "code",
   "execution_count": 10,
   "id": "58095130-a45a-4fe7-bc54-9cc015a8d381",
   "metadata": {},
   "outputs": [],
   "source": [
    "def tree_backup(epsilon, alpha, gamma, n_step):    \n",
    "    Qpi_sa     = {}\n",
    "    state_list = []  # contains the list of states\n",
    "    no_actions = 3   # 0, 1 and 2\n",
    "\n",
    "    # multiplicative factor of 100\n",
    "    pos_min    = -120\n",
    "    pos_max    = 60\n",
    "    pos_inc    = 1\n",
    "    pos_fac    = 100\n",
    "\n",
    "    # multiplicative factor of 100\n",
    "    vel_min    = -7\n",
    "    vel_max    = 7\n",
    "    vel_inc    = 1\n",
    "    vel_fac    = 100\n",
    "\n",
    "    for pos in range(pos_min, pos_max+1, pos_inc):\n",
    "        for vel in range(vel_min, vel_max+1, vel_inc):\n",
    "            state_list.append((pos, vel))\n",
    "            for action in range(no_actions):\n",
    "                Qpi_sa[(pos, vel), action] = 0\n",
    "                \n",
    "    policy_pi = {}\n",
    "    for item in state_list:\n",
    "        policy_pi[item] = [1/no_actions, 1/no_actions, 1/no_actions] # action is 0, 1 or 2\n",
    "        \n",
    "    env         = gym.make('MountainCar-v0')\n",
    "    episodes    = 0\n",
    "    converged   = False\n",
    "\n",
    "    while not converged:\n",
    "        episodes += 1\n",
    "    \n",
    "        cur_obs     = env.reset()\n",
    "        cur_obs     = process_state(cur_obs, pos_fac, vel_fac)\n",
    "        cur_action  = epsilon_greedy_action_policy(cur_obs, epsilon, no_actions, policy_pi)\n",
    "        done        = False\n",
    "        t           = 0\n",
    "        t_term      = pow(10,8)              # the termination step\n",
    "        trans_list  = []\n",
    "        trans_list.append([cur_obs, cur_action])\n",
    "        cur_policy  = get_policy(state_list, Qpi_sa)\n",
    "    \n",
    "        while not done:        \n",
    "            next_obs, reward, done, info = env.step(cur_action)         \n",
    "            if done:\n",
    "                t_term = t+1\n",
    "            next_obs                     = process_state(next_obs, pos_fac, vel_fac)\n",
    "            next_action                  = epsilon_greedy_action_policy(next_obs, epsilon, no_actions, policy_pi)            \n",
    "            cur_obs                      = next_obs\n",
    "            cur_action                   = next_action\n",
    "            trans_list.append([next_obs, next_action, reward])\n",
    "        \n",
    "            tau = t-n_step+1        \n",
    "            if tau>=0:   \n",
    "                policy_pi   = get_policy(state_list, Qpi_sa)\n",
    "                G           = 0\n",
    "                \n",
    "                if t+1>=t_term:\n",
    "                    G += trans_list[t_term][2]\n",
    "                else:\n",
    "                    expect_q_sum  = 0\n",
    "                    for action in range(no_actions):\n",
    "                        expect_q_sum   += policy_pi[trans_list[t+1][0]][action]* Qpi_sa[trans_list[t+1][0], action]\n",
    "                    G += trans_list[t+1][2] + gamma*expect_q_sum\n",
    "                \n",
    "                for k in range(min(t, t_term-1), tau, -1):\n",
    "                    expect_sum  = 0\n",
    "                    for action in range(no_actions):\n",
    "                        if action!=trans_list[k][1]:\n",
    "                            expect_sum += policy_pi[trans_list[k][0]][action]* Qpi_sa[trans_list[k][0], action]\n",
    "                    G += trans_list[k][2] + gamma*expect_sum + gamma*policy_pi[trans_list[k][0]][trans_list[k][1]]*G\n",
    "            \n",
    "                Qpi_sa[trans_list[tau][0], trans_list[tau][1]]  = Qpi_sa[trans_list[tau][0], trans_list[tau][1]] + alpha*(G - Qpi_sa[trans_list[tau][0], trans_list[tau][1]])\n",
    "            \n",
    "            t += 1\n",
    "        \n",
    "        new_policy  = get_policy(state_list, Qpi_sa)    \n",
    "        if new_policy==policy_pi:\n",
    "            converged = True \n",
    "        policy_pi = new_policy\n",
    "    \n",
    "    return policy_pi, episodes"
   ]
  },
  {
   "cell_type": "markdown",
   "id": "8020496b-27ef-4c63-9305-9d07dc4e5da7",
   "metadata": {},
   "source": [
    "#### Task 2: TD(2), TD(3), TD(4)"
   ]
  },
  {
   "cell_type": "code",
   "execution_count": 7,
   "id": "fe701346-c286-445f-b821-349d18250af6",
   "metadata": {},
   "outputs": [],
   "source": [
    "epsilon     = 0.1\n",
    "alpha       = 0.5\n",
    "gamma       = 0.9\n",
    "no_actions  = 3"
   ]
  },
  {
   "cell_type": "code",
   "execution_count": null,
   "id": "3f0b7b81-1d70-4ce7-936a-a4bfede642c7",
   "metadata": {},
   "outputs": [],
   "source": [
    "n_step      = 2\n",
    "policy, eps = n_sarsa(epsilon, alpha, gamma, n_step)\n",
    "pickle.dump(policy, open(\"task2_td2-nsarsa.p\", \"wb\" ))\n",
    "print('Episodes took to converge for TD(2) SARSA: ', eps)\n",
    "success, steps = control_performance('MountainCar-v0', pos_fac, vel_fac, policy, no_actions, 1000)\n",
    "print('Success rate of TD(2) SARSA control over 1000 runs: ', (success/1000)*100, '%')\n",
    "print('Average steps taken to reach the goal: ', sum(steps)/len(steps))"
   ]
  },
  {
   "cell_type": "code",
   "execution_count": null,
   "id": "0670e759-1440-45c7-9bf7-975b43712478",
   "metadata": {},
   "outputs": [],
   "source": [
    "n_step      = 3\n",
    "policy, eps = n_sarsa(epsilon, alpha, gamma, n_step)\n",
    "pickle.dump(policy, open(\"task2_td3-nsarsa.p\", \"wb\" ))\n",
    "print('Episodes took to converge for TD(3) SARSA: ', eps)\n",
    "success, steps = control_performance('MountainCar-v0', pos_fac, vel_fac, policy, no_actions, 1000)\n",
    "print('Success rate of TD(3) SARSA control over 1000 runs: ', (success/1000)*100, '%')\n",
    "print('Average steps taken to reach the goal: ', sum(steps)/len(steps))"
   ]
  },
  {
   "cell_type": "code",
   "execution_count": null,
   "id": "e2ed13b7-19c4-4a79-9179-44edf3d75d58",
   "metadata": {},
   "outputs": [],
   "source": [
    "n_step      = 4\n",
    "policy, eps = n_sarsa(epsilon, alpha, gamma, n_step)\n",
    "pickle.dump(policy, open(\"task2_td4-nsarsa.p\", \"wb\" ))\n",
    "print('Episodes took to converge for TD(4) SARSA: ', eps)\n",
    "success, steps = control_performance('MountainCar-v0', pos_fac, vel_fac, policy, no_actions, 1000)\n",
    "print('Success rate of TD(4) SARSA control over 1000 runs: ', (success/1000)*100, '%')\n",
    "print('Average steps taken to reach the goal: ', sum(steps)/len(steps))"
   ]
  },
  {
   "cell_type": "markdown",
   "id": "4047bf4f-1a12-4a0e-bfcf-7d6a062778d7",
   "metadata": {},
   "source": [
    "#### Bonus Task 3: Tree Backup"
   ]
  },
  {
   "cell_type": "code",
   "execution_count": 11,
   "id": "a44c3f41-3ce6-481d-b849-4aa89f0ef24d",
   "metadata": {},
   "outputs": [],
   "source": [
    "epsilon     = 0.1\n",
    "alpha       = 0.5\n",
    "gamma       = 0.9\n",
    "no_actions  = 3"
   ]
  },
  {
   "cell_type": "code",
   "execution_count": 12,
   "id": "2f39b37f-67a4-44b7-a421-808d5397dd94",
   "metadata": {},
   "outputs": [
    {
     "name": "stdout",
     "output_type": "stream",
     "text": [
      "Episodes took to converge for TD(2) tree backup:  1\n",
      "Success rate of TD(2) tree backup control over 1000 runs:  0.0 %\n"
     ]
    },
    {
     "ename": "ZeroDivisionError",
     "evalue": "division by zero",
     "output_type": "error",
     "traceback": [
      "\u001b[0;31m---------------------------------------------------------------------------\u001b[0m\n\u001b[0;31mZeroDivisionError\u001b[0m                         Traceback (most recent call last)",
      "File \u001b[0;34m/opt/anaconda3/envs/milamoth/lib/python3.7/site-packages/IPython/core/interactiveshell.py\u001b[0m, in \u001b[0;32mrun_code\u001b[0m:\nLine \u001b[0;34m3441\u001b[0m:  exec(code_obj, \u001b[36mself\u001b[39;49;00m.user_global_ns, \u001b[36mself\u001b[39;49;00m.user_ns)\n",
      "In  \u001b[0;34m[12]\u001b[0m:\nLine \u001b[0;34m7\u001b[0m:     \u001b[36mprint\u001b[39;49;00m(\u001b[33m'\u001b[39;49;00m\u001b[33mAverage steps taken to reach the goal: \u001b[39;49;00m\u001b[33m'\u001b[39;49;00m, \u001b[36msum\u001b[39;49;00m(steps)/\u001b[36mlen\u001b[39;49;00m(steps))\n",
      "\u001b[0;31mZeroDivisionError\u001b[0m: division by zero\n\u001b[0;31m---------------------------------------------------------------------------\u001b[0m"
     ]
    }
   ],
   "source": [
    "n_step      = 2\n",
    "policy, eps = tree_backup(epsilon, alpha, gamma, n_step)\n",
    "pickle.dump(policy, open(\"task3_td2-treebackup.p\", \"wb\" ))\n",
    "print('Episodes took to converge for TD(2) tree backup: ', eps)\n",
    "success, steps = control_performance('MountainCar-v0', pos_fac, vel_fac, policy, no_actions, 1000)\n",
    "print('Success rate of TD(2) tree backup control over 1000 runs: ', (success/1000)*100, '%')\n",
    "print('Average steps taken to reach the goal: ', sum(steps)/len(steps))"
   ]
  },
  {
   "cell_type": "code",
   "execution_count": null,
   "id": "538fa08f-df1a-40b4-bfaa-fff0bdc4948f",
   "metadata": {},
   "outputs": [],
   "source": [
    "n_step      = 3\n",
    "policy, eps = tree_backup(epsilon, alpha, gamma, n_step)\n",
    "pickle.dump(policy, open(\"task3_td3-treebackup.p\", \"wb\" ))\n",
    "print('Episodes took to converge for TD(3) tree backup: ', eps)\n",
    "success, steps = control_performance('MountainCar-v0', pos_fac, vel_fac, policy, no_actions, 1000)\n",
    "print('Success rate of TD(3) tree backup control over 1000 runs: ', (success/1000)*100, '%')\n",
    "print('Average steps taken to reach the goal: ', sum(steps)/len(steps))"
   ]
  },
  {
   "cell_type": "code",
   "execution_count": null,
   "id": "dce22ad4-9a8e-43ae-b831-635f5e805954",
   "metadata": {},
   "outputs": [],
   "source": [
    "n_step      = 4\n",
    "policy, eps = tree_backup(epsilon, alpha, gamma, n_step)\n",
    "pickle.dump(policy, open(\"task3_td4-treebackup.p\", \"wb\" ))\n",
    "print('Episodes took to converge for TD(4) tree backup: ', eps)\n",
    "success, steps = control_performance('MountainCar-v0', pos_fac, vel_fac, policy, no_actions, 1000)\n",
    "print('Success rate of TD(4) tree backup control over 1000 runs: ', (success/1000)*100, '%')\n",
    "print('Average steps taken to reach the goal: ', sum(steps)/len(steps))"
   ]
  },
  {
   "cell_type": "markdown",
   "id": "a809e6c3-6e93-445a-9408-ca0e4d703156",
   "metadata": {},
   "source": [
    "**COMMENT**: I have implemented n-step SARSA and n-step Tree Backup, however, there are some convergence issues"
   ]
  }
 ],
 "metadata": {
  "kernelspec": {
   "display_name": "Python 3.7 (XPython)",
   "language": "python",
   "name": "xpython"
  },
  "language_info": {
   "file_extension": ".py",
   "mimetype": "text/x-python",
   "name": "python",
   "version": "3.7.10"
  }
 },
 "nbformat": 4,
 "nbformat_minor": 5
}
